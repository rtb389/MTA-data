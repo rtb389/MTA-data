{
 "cells": [
  {
   "cell_type": "code",
   "execution_count": 1,
   "metadata": {
    "collapsed": true
   },
   "outputs": [],
   "source": [
    "import pandas as pd\n",
    "import numpy as np\n",
    "\n",
    "f1 = 'Fare_Card_History_for_Metropolitan_Transportation_Authority__MTA___Beginning_2010.csv'\n",
    "f2 = 'MTA_Customer_Feedback_Data__Beginning_2014.csv'"
   ]
  },
  {
   "cell_type": "code",
   "execution_count": 2,
   "metadata": {
    "collapsed": true
   },
   "outputs": [],
   "source": [
    "fare = pd.read_csv(f1)\n",
    "feed = pd.read_csv(f2)"
   ]
  },
  {
   "cell_type": "code",
   "execution_count": 3,
   "metadata": {
    "collapsed": false
   },
   "outputs": [
    {
     "data": {
      "text/plain": [
       "Index([u'From Date', u'To Date', u'Remote Station ID', u'Station',\n",
       "       u'Full Fare', u'Senior Citizen / Disabled',\n",
       "       u'7 Day ADA Farecard Access System Unlimited',\n",
       "       u'30 Day ADA Farecard Access System Unlimited',\n",
       "       u'Joint Rail Road Ticket', u'7 Day Unlimited', u'30 Day Unlimited',\n",
       "       u'14 Day Reduced Fare Media Unlimited', u'1 Day Unlimited',\n",
       "       u'14 Day Unlimited', u'7 Day Express Bus Pass',\n",
       "       u'Transit Check Metrocard', u'LIB Special Senior',\n",
       "       u'Rail Road Unlimited No Trade',\n",
       "       u'Transit Check Metrocard Annual Metrocard',\n",
       "       u'Mail and Ride EZPass Express', u'Mail and Ride Unlimited',\n",
       "       u'Path 2 Trip', u'Airtran Full Fare', u'Airtran 30 Day',\n",
       "       u'Airtran 10 Trip', u'Airtran Monthly'],\n",
       "      dtype='object')"
      ]
     },
     "execution_count": 3,
     "metadata": {},
     "output_type": "execute_result"
    }
   ],
   "source": [
    "fare.columns"
   ]
  },
  {
   "cell_type": "code",
   "execution_count": 4,
   "metadata": {
    "collapsed": false
   },
   "outputs": [
    {
     "data": {
      "text/html": [
       "<div>\n",
       "<table border=\"1\" class=\"dataframe\">\n",
       "  <thead>\n",
       "    <tr style=\"text-align: right;\">\n",
       "      <th></th>\n",
       "      <th>From Date</th>\n",
       "      <th>To Date</th>\n",
       "      <th>Remote Station ID</th>\n",
       "      <th>Station</th>\n",
       "      <th>Full Fare</th>\n",
       "      <th>Senior Citizen / Disabled</th>\n",
       "      <th>7 Day ADA Farecard Access System Unlimited</th>\n",
       "      <th>30 Day ADA Farecard Access System Unlimited</th>\n",
       "      <th>Joint Rail Road Ticket</th>\n",
       "      <th>7 Day Unlimited</th>\n",
       "      <th>...</th>\n",
       "      <th>LIB Special Senior</th>\n",
       "      <th>Rail Road Unlimited No Trade</th>\n",
       "      <th>Transit Check Metrocard Annual Metrocard</th>\n",
       "      <th>Mail and Ride EZPass Express</th>\n",
       "      <th>Mail and Ride Unlimited</th>\n",
       "      <th>Path 2 Trip</th>\n",
       "      <th>Airtran Full Fare</th>\n",
       "      <th>Airtran 30 Day</th>\n",
       "      <th>Airtran 10 Trip</th>\n",
       "      <th>Airtran Monthly</th>\n",
       "    </tr>\n",
       "  </thead>\n",
       "  <tbody>\n",
       "    <tr>\n",
       "      <th>0</th>\n",
       "      <td>02/13/2016</td>\n",
       "      <td>02/19/2016</td>\n",
       "      <td>R001</td>\n",
       "      <td>WHITEHALL STREET</td>\n",
       "      <td>46710</td>\n",
       "      <td>1811</td>\n",
       "      <td>264</td>\n",
       "      <td>756</td>\n",
       "      <td>231</td>\n",
       "      <td>21775</td>\n",
       "      <td>...</td>\n",
       "      <td>430</td>\n",
       "      <td>432</td>\n",
       "      <td>3440</td>\n",
       "      <td>1202</td>\n",
       "      <td>470</td>\n",
       "      <td>0</td>\n",
       "      <td>843</td>\n",
       "      <td>0</td>\n",
       "      <td>0</td>\n",
       "      <td>0</td>\n",
       "    </tr>\n",
       "    <tr>\n",
       "      <th>1</th>\n",
       "      <td>02/13/2016</td>\n",
       "      <td>02/19/2016</td>\n",
       "      <td>R003</td>\n",
       "      <td>CYPRESS HILLS</td>\n",
       "      <td>2793</td>\n",
       "      <td>138</td>\n",
       "      <td>14</td>\n",
       "      <td>40</td>\n",
       "      <td>0</td>\n",
       "      <td>2171</td>\n",
       "      <td>...</td>\n",
       "      <td>61</td>\n",
       "      <td>1</td>\n",
       "      <td>97</td>\n",
       "      <td>6</td>\n",
       "      <td>9</td>\n",
       "      <td>0</td>\n",
       "      <td>7</td>\n",
       "      <td>0</td>\n",
       "      <td>0</td>\n",
       "      <td>0</td>\n",
       "    </tr>\n",
       "    <tr>\n",
       "      <th>2</th>\n",
       "      <td>02/13/2016</td>\n",
       "      <td>02/19/2016</td>\n",
       "      <td>R004</td>\n",
       "      <td>75TH STREET &amp; ELDERTS LANE</td>\n",
       "      <td>7229</td>\n",
       "      <td>356</td>\n",
       "      <td>28</td>\n",
       "      <td>102</td>\n",
       "      <td>0</td>\n",
       "      <td>5144</td>\n",
       "      <td>...</td>\n",
       "      <td>193</td>\n",
       "      <td>0</td>\n",
       "      <td>254</td>\n",
       "      <td>32</td>\n",
       "      <td>52</td>\n",
       "      <td>0</td>\n",
       "      <td>75</td>\n",
       "      <td>0</td>\n",
       "      <td>0</td>\n",
       "      <td>0</td>\n",
       "    </tr>\n",
       "    <tr>\n",
       "      <th>3</th>\n",
       "      <td>02/13/2016</td>\n",
       "      <td>02/19/2016</td>\n",
       "      <td>R005</td>\n",
       "      <td>85TH STREET &amp; FOREST PKWAY</td>\n",
       "      <td>7998</td>\n",
       "      <td>441</td>\n",
       "      <td>36</td>\n",
       "      <td>177</td>\n",
       "      <td>4</td>\n",
       "      <td>5407</td>\n",
       "      <td>...</td>\n",
       "      <td>158</td>\n",
       "      <td>0</td>\n",
       "      <td>255</td>\n",
       "      <td>51</td>\n",
       "      <td>76</td>\n",
       "      <td>0</td>\n",
       "      <td>70</td>\n",
       "      <td>0</td>\n",
       "      <td>0</td>\n",
       "      <td>0</td>\n",
       "    </tr>\n",
       "    <tr>\n",
       "      <th>4</th>\n",
       "      <td>02/13/2016</td>\n",
       "      <td>02/19/2016</td>\n",
       "      <td>R006</td>\n",
       "      <td>WOODHAVEN BOULEVARD</td>\n",
       "      <td>7641</td>\n",
       "      <td>422</td>\n",
       "      <td>27</td>\n",
       "      <td>149</td>\n",
       "      <td>1</td>\n",
       "      <td>6857</td>\n",
       "      <td>...</td>\n",
       "      <td>151</td>\n",
       "      <td>3</td>\n",
       "      <td>300</td>\n",
       "      <td>72</td>\n",
       "      <td>61</td>\n",
       "      <td>0</td>\n",
       "      <td>64</td>\n",
       "      <td>0</td>\n",
       "      <td>0</td>\n",
       "      <td>0</td>\n",
       "    </tr>\n",
       "  </tbody>\n",
       "</table>\n",
       "<p>5 rows × 26 columns</p>\n",
       "</div>"
      ],
      "text/plain": [
       "    From Date     To Date Remote Station ID                     Station  \\\n",
       "0  02/13/2016  02/19/2016              R001            WHITEHALL STREET   \n",
       "1  02/13/2016  02/19/2016              R003               CYPRESS HILLS   \n",
       "2  02/13/2016  02/19/2016              R004  75TH STREET & ELDERTS LANE   \n",
       "3  02/13/2016  02/19/2016              R005  85TH STREET & FOREST PKWAY   \n",
       "4  02/13/2016  02/19/2016              R006         WOODHAVEN BOULEVARD   \n",
       "\n",
       "   Full Fare  Senior Citizen / Disabled  \\\n",
       "0      46710                       1811   \n",
       "1       2793                        138   \n",
       "2       7229                        356   \n",
       "3       7998                        441   \n",
       "4       7641                        422   \n",
       "\n",
       "   7 Day ADA Farecard Access System Unlimited  \\\n",
       "0                                         264   \n",
       "1                                          14   \n",
       "2                                          28   \n",
       "3                                          36   \n",
       "4                                          27   \n",
       "\n",
       "   30 Day ADA Farecard Access System Unlimited  Joint Rail Road Ticket  \\\n",
       "0                                          756                     231   \n",
       "1                                           40                       0   \n",
       "2                                          102                       0   \n",
       "3                                          177                       4   \n",
       "4                                          149                       1   \n",
       "\n",
       "   7 Day Unlimited       ...         LIB Special Senior  \\\n",
       "0            21775       ...                        430   \n",
       "1             2171       ...                         61   \n",
       "2             5144       ...                        193   \n",
       "3             5407       ...                        158   \n",
       "4             6857       ...                        151   \n",
       "\n",
       "   Rail Road Unlimited No Trade  Transit Check Metrocard Annual Metrocard  \\\n",
       "0                           432                                      3440   \n",
       "1                             1                                        97   \n",
       "2                             0                                       254   \n",
       "3                             0                                       255   \n",
       "4                             3                                       300   \n",
       "\n",
       "   Mail and Ride EZPass Express  Mail and Ride Unlimited  Path 2 Trip  \\\n",
       "0                          1202                      470            0   \n",
       "1                             6                        9            0   \n",
       "2                            32                       52            0   \n",
       "3                            51                       76            0   \n",
       "4                            72                       61            0   \n",
       "\n",
       "   Airtran Full Fare  Airtran 30 Day  Airtran 10 Trip  Airtran Monthly  \n",
       "0                843               0                0                0  \n",
       "1                  7               0                0                0  \n",
       "2                 75               0                0                0  \n",
       "3                 70               0                0                0  \n",
       "4                 64               0                0                0  \n",
       "\n",
       "[5 rows x 26 columns]"
      ]
     },
     "execution_count": 4,
     "metadata": {},
     "output_type": "execute_result"
    }
   ],
   "source": [
    "fare.head()"
   ]
  },
  {
   "cell_type": "code",
   "execution_count": 5,
   "metadata": {
    "collapsed": false
   },
   "outputs": [
    {
     "data": {
      "text/plain": [
       "Index([u'Agency', u'Commendation or Complaint', u'Subject Matter',\n",
       "       u'Subject Detail', u'Issue Detail', u'Year', u'Quarter',\n",
       "       u'Branch/Line/Route'],\n",
       "      dtype='object')"
      ]
     },
     "execution_count": 5,
     "metadata": {},
     "output_type": "execute_result"
    }
   ],
   "source": [
    "feed.columns"
   ]
  },
  {
   "cell_type": "code",
   "execution_count": 7,
   "metadata": {
    "collapsed": false
   },
   "outputs": [
    {
     "data": {
      "text/html": [
       "<div>\n",
       "<table border=\"1\" class=\"dataframe\">\n",
       "  <thead>\n",
       "    <tr style=\"text-align: right;\">\n",
       "      <th></th>\n",
       "      <th>Agency</th>\n",
       "      <th>Commendation or Complaint</th>\n",
       "      <th>Subject Matter</th>\n",
       "      <th>Subject Detail</th>\n",
       "      <th>Issue Detail</th>\n",
       "      <th>Year</th>\n",
       "      <th>Quarter</th>\n",
       "      <th>Branch/Line/Route</th>\n",
       "    </tr>\n",
       "  </thead>\n",
       "  <tbody>\n",
       "    <tr>\n",
       "      <th>0</th>\n",
       "      <td>Long Island Rail Road</td>\n",
       "      <td>Commendation</td>\n",
       "      <td>Employees</td>\n",
       "      <td>CSR - Ambassador</td>\n",
       "      <td>Very Helpful/Friendly</td>\n",
       "      <td>2015</td>\n",
       "      <td>2</td>\n",
       "      <td>No Value</td>\n",
       "    </tr>\n",
       "    <tr>\n",
       "      <th>1</th>\n",
       "      <td>Long Island Rail Road</td>\n",
       "      <td>Commendation</td>\n",
       "      <td>Employees</td>\n",
       "      <td>CSR - Ambassador</td>\n",
       "      <td>Very Helpful/Friendly</td>\n",
       "      <td>2015</td>\n",
       "      <td>2</td>\n",
       "      <td>Port Jefferson</td>\n",
       "    </tr>\n",
       "    <tr>\n",
       "      <th>2</th>\n",
       "      <td>Long Island Rail Road</td>\n",
       "      <td>Commendation</td>\n",
       "      <td>Employees</td>\n",
       "      <td>CSR - Customer Service Office</td>\n",
       "      <td>NaN</td>\n",
       "      <td>2015</td>\n",
       "      <td>1</td>\n",
       "      <td>No Value</td>\n",
       "    </tr>\n",
       "    <tr>\n",
       "      <th>3</th>\n",
       "      <td>Long Island Rail Road</td>\n",
       "      <td>Commendation</td>\n",
       "      <td>Employees</td>\n",
       "      <td>CSR - Customer Service Office</td>\n",
       "      <td>Other</td>\n",
       "      <td>2015</td>\n",
       "      <td>2</td>\n",
       "      <td>Far Rockaway</td>\n",
       "    </tr>\n",
       "    <tr>\n",
       "      <th>4</th>\n",
       "      <td>Long Island Rail Road</td>\n",
       "      <td>Commendation</td>\n",
       "      <td>Employees</td>\n",
       "      <td>CSR - Customer Service Office</td>\n",
       "      <td>Very Helpful / Friendly</td>\n",
       "      <td>2015</td>\n",
       "      <td>2</td>\n",
       "      <td>No Value</td>\n",
       "    </tr>\n",
       "  </tbody>\n",
       "</table>\n",
       "</div>"
      ],
      "text/plain": [
       "                  Agency Commendation or Complaint Subject Matter  \\\n",
       "0  Long Island Rail Road              Commendation      Employees   \n",
       "1  Long Island Rail Road              Commendation      Employees   \n",
       "2  Long Island Rail Road              Commendation      Employees   \n",
       "3  Long Island Rail Road              Commendation      Employees   \n",
       "4  Long Island Rail Road              Commendation      Employees   \n",
       "\n",
       "                  Subject Detail             Issue Detail  Year  Quarter  \\\n",
       "0               CSR - Ambassador    Very Helpful/Friendly  2015        2   \n",
       "1               CSR - Ambassador    Very Helpful/Friendly  2015        2   \n",
       "2  CSR - Customer Service Office                      NaN  2015        1   \n",
       "3  CSR - Customer Service Office                    Other  2015        2   \n",
       "4  CSR - Customer Service Office  Very Helpful / Friendly  2015        2   \n",
       "\n",
       "  Branch/Line/Route  \n",
       "0          No Value  \n",
       "1    Port Jefferson  \n",
       "2          No Value  \n",
       "3      Far Rockaway  \n",
       "4          No Value  "
      ]
     },
     "execution_count": 7,
     "metadata": {},
     "output_type": "execute_result"
    }
   ],
   "source": [
    "feed.head()"
   ]
  },
  {
   "cell_type": "code",
   "execution_count": 40,
   "metadata": {
    "collapsed": true
   },
   "outputs": [],
   "source": [
    "fare['Total'] = fare['Full Fare']\n",
    "cols = list(fare.columns)\n",
    "cols = cols[5:]\n",
    "for col in cols:\n",
    "    fare['Total'] = fare['Total']+fare[col]"
   ]
  },
  {
   "cell_type": "code",
   "execution_count": 8,
   "metadata": {
    "collapsed": true
   },
   "outputs": [],
   "source": [
    "fare['Quarter'] = [int(x[:2])/4 + 1 for x in fare['From Date']]\n",
    "fare['Year'] = [int(x[-4:]) for x in fare['From Date']]"
   ]
  },
  {
   "cell_type": "code",
   "execution_count": 11,
   "metadata": {
    "collapsed": true
   },
   "outputs": [],
   "source": [
    "feed['Commendation'] = [1 if x=='Commendation' else 0 for x in feed['Commendation or Complaint']]\n",
    "feed['Complaint'] = [1 if x=='Complaint' else 0 for x in feed['Commendation or Complaint']]"
   ]
  },
  {
   "cell_type": "code",
   "execution_count": 12,
   "metadata": {
    "collapsed": true
   },
   "outputs": [],
   "source": [
    "feed = feed[['Commendation','Complaint','Year','Quarter']].groupby(['Year','Quarter']).sum().reset_index()"
   ]
  },
  {
   "cell_type": "code",
   "execution_count": 41,
   "metadata": {
    "collapsed": true
   },
   "outputs": [],
   "source": [
    "fare = fare[['Total','Quarter','Year']].groupby(['Year','Quarter']).sum().reset_index()"
   ]
  },
  {
   "cell_type": "code",
   "execution_count": 42,
   "metadata": {
    "collapsed": false
   },
   "outputs": [],
   "source": [
    "join = feed.merge(fare,on=['Year','Quarter'])"
   ]
  },
  {
   "cell_type": "code",
   "execution_count": 43,
   "metadata": {
    "collapsed": false
   },
   "outputs": [
    {
     "data": {
      "text/html": [
       "<div>\n",
       "<table border=\"1\" class=\"dataframe\">\n",
       "  <thead>\n",
       "    <tr style=\"text-align: right;\">\n",
       "      <th></th>\n",
       "      <th>Year</th>\n",
       "      <th>Quarter</th>\n",
       "      <th>Commendation</th>\n",
       "      <th>Complaint</th>\n",
       "      <th>Total</th>\n",
       "    </tr>\n",
       "  </thead>\n",
       "  <tbody>\n",
       "    <tr>\n",
       "      <th>0</th>\n",
       "      <td>2014</td>\n",
       "      <td>3</td>\n",
       "      <td>327</td>\n",
       "      <td>5899</td>\n",
       "      <td>242302937</td>\n",
       "    </tr>\n",
       "    <tr>\n",
       "      <th>1</th>\n",
       "      <td>2014</td>\n",
       "      <td>4</td>\n",
       "      <td>359</td>\n",
       "      <td>6466</td>\n",
       "      <td>26960980</td>\n",
       "    </tr>\n",
       "    <tr>\n",
       "      <th>2</th>\n",
       "      <td>2015</td>\n",
       "      <td>1</td>\n",
       "      <td>411</td>\n",
       "      <td>8365</td>\n",
       "      <td>147882540</td>\n",
       "    </tr>\n",
       "    <tr>\n",
       "      <th>3</th>\n",
       "      <td>2015</td>\n",
       "      <td>2</td>\n",
       "      <td>433</td>\n",
       "      <td>8876</td>\n",
       "      <td>284591997</td>\n",
       "    </tr>\n",
       "    <tr>\n",
       "      <th>4</th>\n",
       "      <td>2015</td>\n",
       "      <td>3</td>\n",
       "      <td>443</td>\n",
       "      <td>8497</td>\n",
       "      <td>169222853</td>\n",
       "    </tr>\n",
       "  </tbody>\n",
       "</table>\n",
       "</div>"
      ],
      "text/plain": [
       "   Year  Quarter  Commendation  Complaint      Total\n",
       "0  2014        3           327       5899  242302937\n",
       "1  2014        4           359       6466   26960980\n",
       "2  2015        1           411       8365  147882540\n",
       "3  2015        2           433       8876  284591997\n",
       "4  2015        3           443       8497  169222853"
      ]
     },
     "execution_count": 43,
     "metadata": {},
     "output_type": "execute_result"
    }
   ],
   "source": [
    "join.head()"
   ]
  },
  {
   "cell_type": "code",
   "execution_count": 17,
   "metadata": {
    "collapsed": true
   },
   "outputs": [],
   "source": [
    "import matplotlib.pyplot as plt\n",
    "%matplotlib inline"
   ]
  },
  {
   "cell_type": "markdown",
   "metadata": {},
   "source": [
    "First, extract the total recorded fares for the given quarter (scaled down appropriately to be comparable to the next field)\n",
    "\n",
    "Second, we want a measure of how many complaints are coming in. However, a gross number is not entirely representative of the change in performance. This is because if the sheer number of commendations or complaints increases while the ratio of complaints to commendations remains the same, it would be unfair to say that service has decreased. Thus we want to map the ratio of complaints to commendations."
   ]
  },
  {
   "cell_type": "code",
   "execution_count": 75,
   "metadata": {
    "collapsed": true
   },
   "outputs": [],
   "source": [
    "full = join['Total']/10000000\n",
    "comp = (join['Complaint']/join['Commendation'])"
   ]
  },
  {
   "cell_type": "code",
   "execution_count": 81,
   "metadata": {
    "collapsed": false
   },
   "outputs": [
    {
     "data": {
      "image/png": "[encoded data removed]",
      "text/plain": [
       "<matplotlib.figure.Figure at 0x1c621ef0>"
      ]
     },
     "metadata": {},
     "output_type": "display_data"
    }
   ],
   "source": [
    "plt.figure(figsize=(10,5))\n",
    "plt.plot(range(len(full)),full)\n",
    "plt.plot(range(len(full)),comp)\n",
    "plt.title('Quarterly Total Full Fare and Ratio of Complaints')\n",
    "plt.xlabel('Quarters since 2014 Q3')\n",
    "plt.legend(['Total Fare Revenue (10 mill) Previous Quarter','Total Complaints Per Commendation'])\n",
    "plt.show()"
   ]
  },
  {
   "cell_type": "markdown",
   "metadata": {},
   "source": [
    "Above we see an overall increase in ratio of complaints seemingly regardless of total fare revenue (and thus total number of rides as well). It may be interesting, then, to explore why this is occurring as it reflects rather poorly on MTA uasage of funds."
   ]
  }
 ],
 "metadata": {
  "kernelspec": {
   "display_name": "Python 2",
   "language": "python",
   "name": "python2"
  },
  "language_info": {
   "codemirror_mode": {
    "name": "ipython",
    "version": 2
   },
   "file_extension": ".py",
   "mimetype": "text/x-python",
   "name": "python",
   "nbconvert_exporter": "python",
   "pygments_lexer": "ipython2",
   "version": "2.7.13"
  }
 },
 "nbformat": 4,
 "nbformat_minor": 2
}
