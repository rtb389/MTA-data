{
 "cells": [
  {
   "cell_type": "code",
   "execution_count": 1,
   "metadata": {
    "collapsed": true
   },
   "outputs": [],
   "source": [
    "import pandas as pd\n",
    "import numpy as np\n",
    "\n",
    "f1 = 'Fare_Card_History_for_Metropolitan_Transportation_Authority__MTA___Beginning_2010.csv'\n",
    "f2 = 'Metropolitan_Transportation_Authority__MTA__Performance_Indicators_per_Agency__Beginning_2008.csv'"
   ]
  },
  {
   "cell_type": "code",
   "execution_count": 2,
   "metadata": {
    "collapsed": true
   },
   "outputs": [],
   "source": [
    "fare = pd.read_csv(f1)\n",
    "perf = pd.read_csv(f2)"
   ]
  },
  {
   "cell_type": "code",
   "execution_count": 3,
   "metadata": {
    "collapsed": false
   },
   "outputs": [
    {
     "data": {
      "text/plain": [
       "Index([u'From Date', u'To Date', u'Remote Station ID', u'Station',\n",
       "       u'Full Fare', u'Senior Citizen / Disabled',\n",
       "       u'7 Day ADA Farecard Access System Unlimited',\n",
       "       u'30 Day ADA Farecard Access System Unlimited',\n",
       "       u'Joint Rail Road Ticket', u'7 Day Unlimited', u'30 Day Unlimited',\n",
       "       u'14 Day Reduced Fare Media Unlimited', u'1 Day Unlimited',\n",
       "       u'14 Day Unlimited', u'7 Day Express Bus Pass',\n",
       "       u'Transit Check Metrocard', u'LIB Special Senior',\n",
       "       u'Rail Road Unlimited No Trade',\n",
       "       u'Transit Check Metrocard Annual Metrocard',\n",
       "       u'Mail and Ride EZPass Express', u'Mail and Ride Unlimited',\n",
       "       u'Path 2 Trip', u'Airtran Full Fare', u'Airtran 30 Day',\n",
       "       u'Airtran 10 Trip', u'Airtran Monthly'],\n",
       "      dtype='object')"
      ]
     },
     "execution_count": 3,
     "metadata": {},
     "output_type": "execute_result"
    }
   ],
   "source": [
    "fare.columns"
   ]
  },
  {
   "cell_type": "code",
   "execution_count": 4,
   "metadata": {
    "collapsed": false
   },
   "outputs": [
    {
     "data": {
      "text/html": [
       "<div>\n",
       "<table border=\"1\" class=\"dataframe\">\n",
       "  <thead>\n",
       "    <tr style=\"text-align: right;\">\n",
       "      <th></th>\n",
       "      <th>From Date</th>\n",
       "      <th>To Date</th>\n",
       "      <th>Remote Station ID</th>\n",
       "      <th>Station</th>\n",
       "      <th>Full Fare</th>\n",
       "      <th>Senior Citizen / Disabled</th>\n",
       "      <th>7 Day ADA Farecard Access System Unlimited</th>\n",
       "      <th>30 Day ADA Farecard Access System Unlimited</th>\n",
       "      <th>Joint Rail Road Ticket</th>\n",
       "      <th>7 Day Unlimited</th>\n",
       "      <th>...</th>\n",
       "      <th>LIB Special Senior</th>\n",
       "      <th>Rail Road Unlimited No Trade</th>\n",
       "      <th>Transit Check Metrocard Annual Metrocard</th>\n",
       "      <th>Mail and Ride EZPass Express</th>\n",
       "      <th>Mail and Ride Unlimited</th>\n",
       "      <th>Path 2 Trip</th>\n",
       "      <th>Airtran Full Fare</th>\n",
       "      <th>Airtran 30 Day</th>\n",
       "      <th>Airtran 10 Trip</th>\n",
       "      <th>Airtran Monthly</th>\n",
       "    </tr>\n",
       "  </thead>\n",
       "  <tbody>\n",
       "    <tr>\n",
       "      <th>0</th>\n",
       "      <td>02/13/2016</td>\n",
       "      <td>02/19/2016</td>\n",
       "      <td>R001</td>\n",
       "      <td>WHITEHALL STREET</td>\n",
       "      <td>46710</td>\n",
       "      <td>1811</td>\n",
       "      <td>264</td>\n",
       "      <td>756</td>\n",
       "      <td>231</td>\n",
       "      <td>21775</td>\n",
       "      <td>...</td>\n",
       "      <td>430</td>\n",
       "      <td>432</td>\n",
       "      <td>3440</td>\n",
       "      <td>1202</td>\n",
       "      <td>470</td>\n",
       "      <td>0</td>\n",
       "      <td>843</td>\n",
       "      <td>0</td>\n",
       "      <td>0</td>\n",
       "      <td>0</td>\n",
       "    </tr>\n",
       "    <tr>\n",
       "      <th>1</th>\n",
       "      <td>02/13/2016</td>\n",
       "      <td>02/19/2016</td>\n",
       "      <td>R003</td>\n",
       "      <td>CYPRESS HILLS</td>\n",
       "      <td>2793</td>\n",
       "      <td>138</td>\n",
       "      <td>14</td>\n",
       "      <td>40</td>\n",
       "      <td>0</td>\n",
       "      <td>2171</td>\n",
       "      <td>...</td>\n",
       "      <td>61</td>\n",
       "      <td>1</td>\n",
       "      <td>97</td>\n",
       "      <td>6</td>\n",
       "      <td>9</td>\n",
       "      <td>0</td>\n",
       "      <td>7</td>\n",
       "      <td>0</td>\n",
       "      <td>0</td>\n",
       "      <td>0</td>\n",
       "    </tr>\n",
       "    <tr>\n",
       "      <th>2</th>\n",
       "      <td>02/13/2016</td>\n",
       "      <td>02/19/2016</td>\n",
       "      <td>R004</td>\n",
       "      <td>75TH STREET &amp; ELDERTS LANE</td>\n",
       "      <td>7229</td>\n",
       "      <td>356</td>\n",
       "      <td>28</td>\n",
       "      <td>102</td>\n",
       "      <td>0</td>\n",
       "      <td>5144</td>\n",
       "      <td>...</td>\n",
       "      <td>193</td>\n",
       "      <td>0</td>\n",
       "      <td>254</td>\n",
       "      <td>32</td>\n",
       "      <td>52</td>\n",
       "      <td>0</td>\n",
       "      <td>75</td>\n",
       "      <td>0</td>\n",
       "      <td>0</td>\n",
       "      <td>0</td>\n",
       "    </tr>\n",
       "    <tr>\n",
       "      <th>3</th>\n",
       "      <td>02/13/2016</td>\n",
       "      <td>02/19/2016</td>\n",
       "      <td>R005</td>\n",
       "      <td>85TH STREET &amp; FOREST PKWAY</td>\n",
       "      <td>7998</td>\n",
       "      <td>441</td>\n",
       "      <td>36</td>\n",
       "      <td>177</td>\n",
       "      <td>4</td>\n",
       "      <td>5407</td>\n",
       "      <td>...</td>\n",
       "      <td>158</td>\n",
       "      <td>0</td>\n",
       "      <td>255</td>\n",
       "      <td>51</td>\n",
       "      <td>76</td>\n",
       "      <td>0</td>\n",
       "      <td>70</td>\n",
       "      <td>0</td>\n",
       "      <td>0</td>\n",
       "      <td>0</td>\n",
       "    </tr>\n",
       "    <tr>\n",
       "      <th>4</th>\n",
       "      <td>02/13/2016</td>\n",
       "      <td>02/19/2016</td>\n",
       "      <td>R006</td>\n",
       "      <td>WOODHAVEN BOULEVARD</td>\n",
       "      <td>7641</td>\n",
       "      <td>422</td>\n",
       "      <td>27</td>\n",
       "      <td>149</td>\n",
       "      <td>1</td>\n",
       "      <td>6857</td>\n",
       "      <td>...</td>\n",
       "      <td>151</td>\n",
       "      <td>3</td>\n",
       "      <td>300</td>\n",
       "      <td>72</td>\n",
       "      <td>61</td>\n",
       "      <td>0</td>\n",
       "      <td>64</td>\n",
       "      <td>0</td>\n",
       "      <td>0</td>\n",
       "      <td>0</td>\n",
       "    </tr>\n",
       "  </tbody>\n",
       "</table>\n",
       "<p>5 rows × 26 columns</p>\n",
       "</div>"
      ],
      "text/plain": [
       "    From Date     To Date Remote Station ID                     Station  \\\n",
       "0  02/13/2016  02/19/2016              R001            WHITEHALL STREET   \n",
       "1  02/13/2016  02/19/2016              R003               CYPRESS HILLS   \n",
       "2  02/13/2016  02/19/2016              R004  75TH STREET & ELDERTS LANE   \n",
       "3  02/13/2016  02/19/2016              R005  85TH STREET & FOREST PKWAY   \n",
       "4  02/13/2016  02/19/2016              R006         WOODHAVEN BOULEVARD   \n",
       "\n",
       "   Full Fare  Senior Citizen / Disabled  \\\n",
       "0      46710                       1811   \n",
       "1       2793                        138   \n",
       "2       7229                        356   \n",
       "3       7998                        441   \n",
       "4       7641                        422   \n",
       "\n",
       "   7 Day ADA Farecard Access System Unlimited  \\\n",
       "0                                         264   \n",
       "1                                          14   \n",
       "2                                          28   \n",
       "3                                          36   \n",
       "4                                          27   \n",
       "\n",
       "   30 Day ADA Farecard Access System Unlimited  Joint Rail Road Ticket  \\\n",
       "0                                          756                     231   \n",
       "1                                           40                       0   \n",
       "2                                          102                       0   \n",
       "3                                          177                       4   \n",
       "4                                          149                       1   \n",
       "\n",
       "   7 Day Unlimited       ...         LIB Special Senior  \\\n",
       "0            21775       ...                        430   \n",
       "1             2171       ...                         61   \n",
       "2             5144       ...                        193   \n",
       "3             5407       ...                        158   \n",
       "4             6857       ...                        151   \n",
       "\n",
       "   Rail Road Unlimited No Trade  Transit Check Metrocard Annual Metrocard  \\\n",
       "0                           432                                      3440   \n",
       "1                             1                                        97   \n",
       "2                             0                                       254   \n",
       "3                             0                                       255   \n",
       "4                             3                                       300   \n",
       "\n",
       "   Mail and Ride EZPass Express  Mail and Ride Unlimited  Path 2 Trip  \\\n",
       "0                          1202                      470            0   \n",
       "1                             6                        9            0   \n",
       "2                            32                       52            0   \n",
       "3                            51                       76            0   \n",
       "4                            72                       61            0   \n",
       "\n",
       "   Airtran Full Fare  Airtran 30 Day  Airtran 10 Trip  Airtran Monthly  \n",
       "0                843               0                0                0  \n",
       "1                  7               0                0                0  \n",
       "2                 75               0                0                0  \n",
       "3                 70               0                0                0  \n",
       "4                 64               0                0                0  \n",
       "\n",
       "[5 rows x 26 columns]"
      ]
     },
     "execution_count": 4,
     "metadata": {},
     "output_type": "execute_result"
    }
   ],
   "source": [
    "fare.head()"
   ]
  },
  {
   "cell_type": "code",
   "execution_count": 5,
   "metadata": {
    "collapsed": false
   },
   "outputs": [
    {
     "data": {
      "text/plain": [
       "Index([u'Indicator Sequence', u'Parent Sequence', u'Agency Name',\n",
       "       u'Indicator Name', u'Description', u'Category', u'Frequency',\n",
       "       u'Desired Change', u'Indicator Unit', u'Decimal Places', u'Period Year',\n",
       "       u'Period Month', u'YTD Target', u'YTD Actual', u'Monthly Target',\n",
       "       u'Monthly Actual', u'Period'],\n",
       "      dtype='object')"
      ]
     },
     "execution_count": 5,
     "metadata": {},
     "output_type": "execute_result"
    }
   ],
   "source": [
    "perf.columns"
   ]
  },
  {
   "cell_type": "code",
   "execution_count": 6,
   "metadata": {
    "collapsed": false
   },
   "outputs": [
    {
     "data": {
      "text/html": [
       "<div>\n",
       "<table border=\"1\" class=\"dataframe\">\n",
       "  <thead>\n",
       "    <tr style=\"text-align: right;\">\n",
       "      <th></th>\n",
       "      <th>Indicator Sequence</th>\n",
       "      <th>Parent Sequence</th>\n",
       "      <th>Agency Name</th>\n",
       "      <th>Indicator Name</th>\n",
       "      <th>Description</th>\n",
       "      <th>Category</th>\n",
       "      <th>Frequency</th>\n",
       "      <th>Desired Change</th>\n",
       "      <th>Indicator Unit</th>\n",
       "      <th>Decimal Places</th>\n",
       "      <th>Period Year</th>\n",
       "      <th>Period Month</th>\n",
       "      <th>YTD Target</th>\n",
       "      <th>YTD Actual</th>\n",
       "      <th>Monthly Target</th>\n",
       "      <th>Monthly Actual</th>\n",
       "      <th>Period</th>\n",
       "    </tr>\n",
       "  </thead>\n",
       "  <tbody>\n",
       "    <tr>\n",
       "      <th>0</th>\n",
       "      <td>74039</td>\n",
       "      <td>0</td>\n",
       "      <td>Bridges and Tunnels</td>\n",
       "      <td>Collisions with Injury Rate</td>\n",
       "      <td>All customer collisions with injuries on B&amp;T p...</td>\n",
       "      <td>Safety Indicators</td>\n",
       "      <td>M</td>\n",
       "      <td>D</td>\n",
       "      <td>-</td>\n",
       "      <td>2</td>\n",
       "      <td>2008</td>\n",
       "      <td>1</td>\n",
       "      <td>0.75</td>\n",
       "      <td>0.54</td>\n",
       "      <td>0.75</td>\n",
       "      <td>0.54</td>\n",
       "      <td>2008-01</td>\n",
       "    </tr>\n",
       "    <tr>\n",
       "      <th>1</th>\n",
       "      <td>74039</td>\n",
       "      <td>0</td>\n",
       "      <td>Bridges and Tunnels</td>\n",
       "      <td>Collisions with Injury Rate</td>\n",
       "      <td>All customer collisions with injuries on B&amp;T p...</td>\n",
       "      <td>Safety Indicators</td>\n",
       "      <td>M</td>\n",
       "      <td>D</td>\n",
       "      <td>-</td>\n",
       "      <td>2</td>\n",
       "      <td>2008</td>\n",
       "      <td>2</td>\n",
       "      <td>0.89</td>\n",
       "      <td>0.75</td>\n",
       "      <td>1.02</td>\n",
       "      <td>0.98</td>\n",
       "      <td>2008-02</td>\n",
       "    </tr>\n",
       "    <tr>\n",
       "      <th>2</th>\n",
       "      <td>74039</td>\n",
       "      <td>0</td>\n",
       "      <td>Bridges and Tunnels</td>\n",
       "      <td>Collisions with Injury Rate</td>\n",
       "      <td>All customer collisions with injuries on B&amp;T p...</td>\n",
       "      <td>Safety Indicators</td>\n",
       "      <td>M</td>\n",
       "      <td>D</td>\n",
       "      <td>-</td>\n",
       "      <td>2</td>\n",
       "      <td>2008</td>\n",
       "      <td>3</td>\n",
       "      <td>0.90</td>\n",
       "      <td>0.77</td>\n",
       "      <td>0.92</td>\n",
       "      <td>0.80</td>\n",
       "      <td>2008-03</td>\n",
       "    </tr>\n",
       "    <tr>\n",
       "      <th>3</th>\n",
       "      <td>74039</td>\n",
       "      <td>0</td>\n",
       "      <td>Bridges and Tunnels</td>\n",
       "      <td>Collisions with Injury Rate</td>\n",
       "      <td>All customer collisions with injuries on B&amp;T p...</td>\n",
       "      <td>Safety Indicators</td>\n",
       "      <td>M</td>\n",
       "      <td>D</td>\n",
       "      <td>-</td>\n",
       "      <td>2</td>\n",
       "      <td>2008</td>\n",
       "      <td>4</td>\n",
       "      <td>0.97</td>\n",
       "      <td>0.79</td>\n",
       "      <td>1.20</td>\n",
       "      <td>0.84</td>\n",
       "      <td>2008-04</td>\n",
       "    </tr>\n",
       "    <tr>\n",
       "      <th>4</th>\n",
       "      <td>74039</td>\n",
       "      <td>0</td>\n",
       "      <td>Bridges and Tunnels</td>\n",
       "      <td>Collisions with Injury Rate</td>\n",
       "      <td>All customer collisions with injuries on B&amp;T p...</td>\n",
       "      <td>Safety Indicators</td>\n",
       "      <td>M</td>\n",
       "      <td>D</td>\n",
       "      <td>-</td>\n",
       "      <td>2</td>\n",
       "      <td>2008</td>\n",
       "      <td>5</td>\n",
       "      <td>0.99</td>\n",
       "      <td>0.94</td>\n",
       "      <td>1.08</td>\n",
       "      <td>1.49</td>\n",
       "      <td>2008-05</td>\n",
       "    </tr>\n",
       "  </tbody>\n",
       "</table>\n",
       "</div>"
      ],
      "text/plain": [
       "   Indicator Sequence  Parent Sequence          Agency Name  \\\n",
       "0               74039                0  Bridges and Tunnels   \n",
       "1               74039                0  Bridges and Tunnels   \n",
       "2               74039                0  Bridges and Tunnels   \n",
       "3               74039                0  Bridges and Tunnels   \n",
       "4               74039                0  Bridges and Tunnels   \n",
       "\n",
       "                Indicator Name  \\\n",
       "0  Collisions with Injury Rate   \n",
       "1  Collisions with Injury Rate   \n",
       "2  Collisions with Injury Rate   \n",
       "3  Collisions with Injury Rate   \n",
       "4  Collisions with Injury Rate   \n",
       "\n",
       "                                         Description           Category  \\\n",
       "0  All customer collisions with injuries on B&T p...  Safety Indicators   \n",
       "1  All customer collisions with injuries on B&T p...  Safety Indicators   \n",
       "2  All customer collisions with injuries on B&T p...  Safety Indicators   \n",
       "3  All customer collisions with injuries on B&T p...  Safety Indicators   \n",
       "4  All customer collisions with injuries on B&T p...  Safety Indicators   \n",
       "\n",
       "  Frequency Desired Change Indicator Unit  Decimal Places  Period Year  \\\n",
       "0         M              D              -               2         2008   \n",
       "1         M              D              -               2         2008   \n",
       "2         M              D              -               2         2008   \n",
       "3         M              D              -               2         2008   \n",
       "4         M              D              -               2         2008   \n",
       "\n",
       "   Period Month  YTD Target  YTD Actual  Monthly Target  Monthly Actual  \\\n",
       "0             1        0.75        0.54            0.75            0.54   \n",
       "1             2        0.89        0.75            1.02            0.98   \n",
       "2             3        0.90        0.77            0.92            0.80   \n",
       "3             4        0.97        0.79            1.20            0.84   \n",
       "4             5        0.99        0.94            1.08            1.49   \n",
       "\n",
       "    Period  \n",
       "0  2008-01  \n",
       "1  2008-02  \n",
       "2  2008-03  \n",
       "3  2008-04  \n",
       "4  2008-05  "
      ]
     },
     "execution_count": 6,
     "metadata": {},
     "output_type": "execute_result"
    }
   ],
   "source": [
    "perf.head()"
   ]
  },
  {
   "cell_type": "code",
   "execution_count": 7,
   "metadata": {
    "collapsed": false
   },
   "outputs": [
    {
     "data": {
      "text/plain": [
       "NYC Transit              9202\n",
       "Long Island Rail Road    2177\n",
       "MTA Bus                  1801\n",
       "Metro-North Railroad     1547\n",
       "Bridges and Tunnels       367\n",
       "Name: Agency Name, dtype: int64"
      ]
     },
     "execution_count": 7,
     "metadata": {},
     "output_type": "execute_result"
    }
   ],
   "source": [
    "perf['Agency Name'].value_counts()"
   ]
  },
  {
   "cell_type": "code",
   "execution_count": 8,
   "metadata": {
    "collapsed": true
   },
   "outputs": [],
   "source": [
    "perf = perf[perf['Agency Name']=='NYC Transit']"
   ]
  },
  {
   "cell_type": "code",
   "execution_count": 9,
   "metadata": {
    "collapsed": false
   },
   "outputs": [
    {
     "data": {
      "text/plain": [
       "['Customer Injury Rate - Subways',\n",
       " 'Mean Distance Between Failures - Subways',\n",
       " 'Wait Assessment - Subways (Inactive, Historic Calculations)',\n",
       " 'Total Ridership - Subways',\n",
       " 'Elevator Availability - Subways',\n",
       " 'Escalator Availability - Subways',\n",
       " 'Subway Wait Assessment ',\n",
       " 'Subway Wait Assessment - 1 Line',\n",
       " 'Subway Wait Assessment - 2 Line',\n",
       " 'Subway Wait Assessment - 3 Line',\n",
       " 'Subway Wait Assessment - 4 Line',\n",
       " 'Subway Wait Assessment - 5 Line',\n",
       " 'Subway Wait Assessment - 6 Line',\n",
       " 'Subway Wait Assessment - 7 Line',\n",
       " 'Subway Wait Assessment - S 42 St',\n",
       " 'Subway Wait Assessment - A Line',\n",
       " 'Subway Wait Assessment - B Line',\n",
       " 'Subway Wait Assessment - C Line',\n",
       " 'Subway Wait Assessment - D Line',\n",
       " 'Subway Wait Assessment - E Line',\n",
       " 'Subway Wait Assessment - F Line',\n",
       " 'Subway Wait Assessment - G Line',\n",
       " 'Subway Wait Assessment - S Rock ',\n",
       " 'Subway Wait Assessment - J Z Line',\n",
       " 'Subway Wait Assessment - L Line',\n",
       " 'Subway Wait Assessment - M Line',\n",
       " 'Subway Wait Assessment - N Line',\n",
       " 'Subway Wait Assessment - Q Line',\n",
       " 'Subway Wait Assessment - R Line',\n",
       " 'Subway Wait Assessment - S Fkln',\n",
       " 'Subway Wait Assessment - W Line']"
      ]
     },
     "execution_count": 9,
     "metadata": {},
     "output_type": "execute_result"
    }
   ],
   "source": [
    "[x for x in perf['Indicator Name'].unique() if 'Subway' in x]"
   ]
  },
  {
   "cell_type": "code",
   "execution_count": 10,
   "metadata": {
    "collapsed": true
   },
   "outputs": [],
   "source": [
    "perf = perf[perf['Indicator Name']== 'Subway Wait Assessment ']"
   ]
  },
  {
   "cell_type": "code",
   "execution_count": 11,
   "metadata": {
    "collapsed": false
   },
   "outputs": [
    {
     "data": {
      "text/plain": [
       "'Wait Assessment (WA), which is measured weekdays between 6:00 am - midnight, is defined as the percent of actual intervals between trains that are no more than the scheduled interval plus 25%.                                                                                                                                                                                                                                                                                                                                                                                                                                                                                                                                                                                                                                                                                                                                                                                                                                                                                                                                                                                                                                                                                                                                                                                                                                                                                                                                                                                                                                                                                                                                                                                                                                                                                                                                                                                                                                                                                                                                                                                                                                                                                                                                                                                                                                                                                                                                                                                                                                                                                                                                                                                                                                                                                                                                                                                                                                                                                                                                                                                                                                                                                                                                                                                                                                                                                                                                                                                                                                                                                                                                                                                                                                                                                                                                                                                                                                                                                                                                                                '"
      ]
     },
     "execution_count": 11,
     "metadata": {},
     "output_type": "execute_result"
    }
   ],
   "source": [
    "perf['Description'].iloc[0]"
   ]
  },
  {
   "cell_type": "code",
   "execution_count": 12,
   "metadata": {
    "collapsed": false
   },
   "outputs": [
    {
     "data": {
      "text/html": [
       "<div>\n",
       "<table border=\"1\" class=\"dataframe\">\n",
       "  <thead>\n",
       "    <tr style=\"text-align: right;\">\n",
       "      <th></th>\n",
       "      <th>Indicator Sequence</th>\n",
       "      <th>Parent Sequence</th>\n",
       "      <th>Agency Name</th>\n",
       "      <th>Indicator Name</th>\n",
       "      <th>Description</th>\n",
       "      <th>Category</th>\n",
       "      <th>Frequency</th>\n",
       "      <th>Desired Change</th>\n",
       "      <th>Indicator Unit</th>\n",
       "      <th>Decimal Places</th>\n",
       "      <th>Period Year</th>\n",
       "      <th>Period Month</th>\n",
       "      <th>YTD Target</th>\n",
       "      <th>YTD Actual</th>\n",
       "      <th>Monthly Target</th>\n",
       "      <th>Monthly Actual</th>\n",
       "      <th>Period</th>\n",
       "    </tr>\n",
       "  </thead>\n",
       "  <tbody>\n",
       "    <tr>\n",
       "      <th>12479</th>\n",
       "      <td>392289</td>\n",
       "      <td>0</td>\n",
       "      <td>NYC Transit</td>\n",
       "      <td>Subway Wait Assessment</td>\n",
       "      <td>Wait Assessment (WA), which is measured weekda...</td>\n",
       "      <td>Service Indicators</td>\n",
       "      <td>M</td>\n",
       "      <td>U</td>\n",
       "      <td>%</td>\n",
       "      <td>1</td>\n",
       "      <td>2009</td>\n",
       "      <td>1</td>\n",
       "      <td>0.0</td>\n",
       "      <td>75.5</td>\n",
       "      <td>0.0</td>\n",
       "      <td>75.5</td>\n",
       "      <td>2009-01</td>\n",
       "    </tr>\n",
       "    <tr>\n",
       "      <th>12480</th>\n",
       "      <td>392289</td>\n",
       "      <td>0</td>\n",
       "      <td>NYC Transit</td>\n",
       "      <td>Subway Wait Assessment</td>\n",
       "      <td>Wait Assessment (WA), which is measured weekda...</td>\n",
       "      <td>Service Indicators</td>\n",
       "      <td>M</td>\n",
       "      <td>U</td>\n",
       "      <td>%</td>\n",
       "      <td>1</td>\n",
       "      <td>2009</td>\n",
       "      <td>2</td>\n",
       "      <td>0.0</td>\n",
       "      <td>75.7</td>\n",
       "      <td>0.0</td>\n",
       "      <td>75.7</td>\n",
       "      <td>2009-02</td>\n",
       "    </tr>\n",
       "    <tr>\n",
       "      <th>12481</th>\n",
       "      <td>392289</td>\n",
       "      <td>0</td>\n",
       "      <td>NYC Transit</td>\n",
       "      <td>Subway Wait Assessment</td>\n",
       "      <td>Wait Assessment (WA), which is measured weekda...</td>\n",
       "      <td>Service Indicators</td>\n",
       "      <td>M</td>\n",
       "      <td>U</td>\n",
       "      <td>%</td>\n",
       "      <td>1</td>\n",
       "      <td>2009</td>\n",
       "      <td>3</td>\n",
       "      <td>0.0</td>\n",
       "      <td>76.0</td>\n",
       "      <td>0.0</td>\n",
       "      <td>76.0</td>\n",
       "      <td>2009-03</td>\n",
       "    </tr>\n",
       "    <tr>\n",
       "      <th>12482</th>\n",
       "      <td>392289</td>\n",
       "      <td>0</td>\n",
       "      <td>NYC Transit</td>\n",
       "      <td>Subway Wait Assessment</td>\n",
       "      <td>Wait Assessment (WA), which is measured weekda...</td>\n",
       "      <td>Service Indicators</td>\n",
       "      <td>M</td>\n",
       "      <td>U</td>\n",
       "      <td>%</td>\n",
       "      <td>1</td>\n",
       "      <td>2009</td>\n",
       "      <td>4</td>\n",
       "      <td>0.0</td>\n",
       "      <td>76.2</td>\n",
       "      <td>0.0</td>\n",
       "      <td>76.2</td>\n",
       "      <td>2009-04</td>\n",
       "    </tr>\n",
       "    <tr>\n",
       "      <th>12483</th>\n",
       "      <td>392289</td>\n",
       "      <td>0</td>\n",
       "      <td>NYC Transit</td>\n",
       "      <td>Subway Wait Assessment</td>\n",
       "      <td>Wait Assessment (WA), which is measured weekda...</td>\n",
       "      <td>Service Indicators</td>\n",
       "      <td>M</td>\n",
       "      <td>U</td>\n",
       "      <td>%</td>\n",
       "      <td>1</td>\n",
       "      <td>2009</td>\n",
       "      <td>5</td>\n",
       "      <td>0.0</td>\n",
       "      <td>76.5</td>\n",
       "      <td>0.0</td>\n",
       "      <td>76.5</td>\n",
       "      <td>2009-05</td>\n",
       "    </tr>\n",
       "  </tbody>\n",
       "</table>\n",
       "</div>"
      ],
      "text/plain": [
       "       Indicator Sequence  Parent Sequence  Agency Name  \\\n",
       "12479              392289                0  NYC Transit   \n",
       "12480              392289                0  NYC Transit   \n",
       "12481              392289                0  NYC Transit   \n",
       "12482              392289                0  NYC Transit   \n",
       "12483              392289                0  NYC Transit   \n",
       "\n",
       "                Indicator Name  \\\n",
       "12479  Subway Wait Assessment    \n",
       "12480  Subway Wait Assessment    \n",
       "12481  Subway Wait Assessment    \n",
       "12482  Subway Wait Assessment    \n",
       "12483  Subway Wait Assessment    \n",
       "\n",
       "                                             Description            Category  \\\n",
       "12479  Wait Assessment (WA), which is measured weekda...  Service Indicators   \n",
       "12480  Wait Assessment (WA), which is measured weekda...  Service Indicators   \n",
       "12481  Wait Assessment (WA), which is measured weekda...  Service Indicators   \n",
       "12482  Wait Assessment (WA), which is measured weekda...  Service Indicators   \n",
       "12483  Wait Assessment (WA), which is measured weekda...  Service Indicators   \n",
       "\n",
       "      Frequency Desired Change Indicator Unit  Decimal Places  Period Year  \\\n",
       "12479         M              U              %               1         2009   \n",
       "12480         M              U              %               1         2009   \n",
       "12481         M              U              %               1         2009   \n",
       "12482         M              U              %               1         2009   \n",
       "12483         M              U              %               1         2009   \n",
       "\n",
       "       Period Month  YTD Target  YTD Actual  Monthly Target  Monthly Actual  \\\n",
       "12479             1         0.0        75.5             0.0            75.5   \n",
       "12480             2         0.0        75.7             0.0            75.7   \n",
       "12481             3         0.0        76.0             0.0            76.0   \n",
       "12482             4         0.0        76.2             0.0            76.2   \n",
       "12483             5         0.0        76.5             0.0            76.5   \n",
       "\n",
       "        Period  \n",
       "12479  2009-01  \n",
       "12480  2009-02  \n",
       "12481  2009-03  \n",
       "12482  2009-04  \n",
       "12483  2009-05  "
      ]
     },
     "execution_count": 12,
     "metadata": {},
     "output_type": "execute_result"
    }
   ],
   "source": [
    "perf.head()"
   ]
  },
  {
   "cell_type": "code",
   "execution_count": 13,
   "metadata": {
    "collapsed": true
   },
   "outputs": [],
   "source": [
    "perf = perf[['Period Year','Period Month','Monthly Actual']]\n",
    "perf.columns = ['Year','Month','Wait']"
   ]
  },
  {
   "cell_type": "code",
   "execution_count": 14,
   "metadata": {
    "collapsed": false
   },
   "outputs": [],
   "source": [
    "fare['Total'] = fare['Full Fare']\n",
    "cols = list(fare.columns)\n",
    "cols = cols[5:]\n",
    "for col in cols:\n",
    "    fare['Total'] = fare['Total']+fare[col]"
   ]
  },
  {
   "cell_type": "code",
   "execution_count": 15,
   "metadata": {
    "collapsed": false
   },
   "outputs": [],
   "source": [
    "fare['Month'] = [int(x[:2]) for x in fare['From Date']]\n",
    "fare['Year'] = [int(x[-4:]) for x in fare['From Date']]"
   ]
  },
  {
   "cell_type": "code",
   "execution_count": 22,
   "metadata": {
    "collapsed": true
   },
   "outputs": [],
   "source": [
    "fare = fare[['Total','Year']]\n",
    "fare = fare.groupby(['Year']).sum().reset_index()"
   ]
  },
  {
   "cell_type": "code",
   "execution_count": 23,
   "metadata": {
    "collapsed": true
   },
   "outputs": [],
   "source": [
    "perf = perf[['Year','Wait']].groupby('Year').agg(np.mean).reset_index()"
   ]
  },
  {
   "cell_type": "code",
   "execution_count": 25,
   "metadata": {
    "collapsed": false
   },
   "outputs": [],
   "source": [
    "join = fare.merge(perf,on='Year')"
   ]
  },
  {
   "cell_type": "code",
   "execution_count": 26,
   "metadata": {
    "collapsed": false
   },
   "outputs": [
    {
     "data": {
      "text/html": [
       "<div>\n",
       "<table border=\"1\" class=\"dataframe\">\n",
       "  <thead>\n",
       "    <tr style=\"text-align: right;\">\n",
       "      <th></th>\n",
       "      <th>Year</th>\n",
       "      <th>Total</th>\n",
       "      <th>Wait</th>\n",
       "    </tr>\n",
       "  </thead>\n",
       "  <tbody>\n",
       "    <tr>\n",
       "      <th>0</th>\n",
       "      <td>2010</td>\n",
       "      <td>1822310936</td>\n",
       "      <td>78.666667</td>\n",
       "    </tr>\n",
       "    <tr>\n",
       "      <th>1</th>\n",
       "      <td>2011</td>\n",
       "      <td>3017500990</td>\n",
       "      <td>78.808333</td>\n",
       "    </tr>\n",
       "    <tr>\n",
       "      <th>2</th>\n",
       "      <td>2012</td>\n",
       "      <td>3035957552</td>\n",
       "      <td>79.225000</td>\n",
       "    </tr>\n",
       "    <tr>\n",
       "      <th>3</th>\n",
       "      <td>2013</td>\n",
       "      <td>3089694486</td>\n",
       "      <td>79.783333</td>\n",
       "    </tr>\n",
       "    <tr>\n",
       "      <th>4</th>\n",
       "      <td>2014</td>\n",
       "      <td>3076741106</td>\n",
       "      <td>78.258333</td>\n",
       "    </tr>\n",
       "  </tbody>\n",
       "</table>\n",
       "</div>"
      ],
      "text/plain": [
       "   Year       Total       Wait\n",
       "0  2010  1822310936  78.666667\n",
       "1  2011  3017500990  78.808333\n",
       "2  2012  3035957552  79.225000\n",
       "3  2013  3089694486  79.783333\n",
       "4  2014  3076741106  78.258333"
      ]
     },
     "execution_count": 26,
     "metadata": {},
     "output_type": "execute_result"
    }
   ],
   "source": [
    "join.head()"
   ]
  },
  {
   "cell_type": "code",
   "execution_count": 27,
   "metadata": {
    "collapsed": true
   },
   "outputs": [],
   "source": [
    "import matplotlib.pyplot as plt\n",
    "%matplotlib inline"
   ]
  },
  {
   "cell_type": "code",
   "execution_count": 45,
   "metadata": {
    "collapsed": true
   },
   "outputs": [],
   "source": [
    "#First year recorded started in May so exclude in comparison\n",
    "full = join.iloc[1:]['Total']/40000000\n",
    "wait = join.iloc[1:]['Wait']"
   ]
  },
  {
   "cell_type": "code",
   "execution_count": 46,
   "metadata": {
    "collapsed": false
   },
   "outputs": [
    {
     "data": {
      "image/png": "[encoded data removed]",
      "text/plain": [
       "<matplotlib.figure.Figure at 0x1c75c630>"
      ]
     },
     "metadata": {},
     "output_type": "display_data"
    }
   ],
   "source": [
    "plt.figure(figsize=(10,5))\n",
    "plt.plot(range(2010,2010+len(full)),full)\n",
    "plt.plot(range(2010,2010+len(full)),wait)\n",
    "plt.title('Yearly Total Fare and Percent On-Time Trains')\n",
    "plt.xlabel('Year')\n",
    "plt.legend(['Total Fare Revenue (40 mill) Previous Quarter','Percentage Trains On-Time'])\n",
    "plt.show()"
   ]
  },
  {
   "cell_type": "markdown",
   "metadata": {},
   "source": [
    "In the above graph, percentage of on-time trains and total fare seem to move together up until 2014, wherein total fare took a large dive and after which on-time trains seems to plummet as well. This could likely be the result of some large-scale construction and re-routing of trains, so it would be interesting to see whether that has had any positive effects in the recent years.  "
   ]
  }
 ],
 "metadata": {
  "kernelspec": {
   "display_name": "Python 2",
   "language": "python",
   "name": "python2"
  },
  "language_info": {
   "codemirror_mode": {
    "name": "ipython",
    "version": 2
   },
   "file_extension": ".py",
   "mimetype": "text/x-python",
   "name": "python",
   "nbconvert_exporter": "python",
   "pygments_lexer": "ipython2",
   "version": "2.7.13"
  }
 },
 "nbformat": 4,
 "nbformat_minor": 2
}
