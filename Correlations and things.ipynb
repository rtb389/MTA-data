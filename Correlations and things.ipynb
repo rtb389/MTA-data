{
 "cells": [
  {
   "cell_type": "code",
   "execution_count": 1,
   "metadata": {
    "collapsed": true
   },
   "outputs": [],
   "source": [
    "import pandas as pd\n",
    "import numpy as np\n",
    "\n",
    "f1 = 'Fare_Card_History_for_Metropolitan_Transportation_Authority__MTA___Beginning_2010.csv'\n",
    "f2 = 'MTA_Customer_Feedback_Data__Beginning_2014.csv'"
   ]
  },
  {
   "cell_type": "code",
   "execution_count": 2,
   "metadata": {
    "collapsed": true
   },
   "outputs": [],
   "source": [
    "fare = pd.read_csv(f1)\n",
    "feed = pd.read_csv(f2)"
   ]
  },
  {
   "cell_type": "code",
   "execution_count": 3,
   "metadata": {
    "collapsed": false
   },
   "outputs": [
    {
     "data": {
      "text/plain": [
       "Index([u'Agency', u'Commendation or Complaint', u'Subject Matter',\n",
       "       u'Subject Detail', u'Issue Detail', u'Year', u'Quarter',\n",
       "       u'Branch/Line/Route'],\n",
       "      dtype='object')"
      ]
     },
     "execution_count": 3,
     "metadata": {},
     "output_type": "execute_result"
    }
   ],
   "source": [
    "feed.columns"
   ]
  },
  {
   "cell_type": "code",
   "execution_count": 4,
   "metadata": {
    "collapsed": false
   },
   "outputs": [
    {
     "data": {
      "text/plain": [
       "Late / Delay                                17302\n",
       "Rude / Inappropriate Language               14076\n",
       "Flagging / Failed To Stop                   10124\n",
       "Improper Function/Needs Repair/Damaged       8878\n",
       "Reckless Driving                             8505\n",
       "Other                                        8246\n",
       "Late / Delay Past                            7005\n",
       "Failure To Make Scheduled Stop               6724\n",
       "Not regulating service properly              5030\n",
       "Not Helpful                                  4979\n",
       "Closed Door Before Customer Could Board      4682\n",
       "Not Working / Out of Service                 4474\n",
       "Crowding                                     3948\n",
       "Add More / Not Enough                        3614\n",
       "A/C Not Available                            3454\n",
       "Abandoned Customer at Station/Stop           3330\n",
       "Late / Delay Current                         2939\n",
       "Litter / Garbage / Debris                    2814\n",
       "Pricing / Payment / Billing Error            2728\n",
       "No Announcement / Messages - Audio           2645\n",
       "Homeless Present                             2443\n",
       "Early                                        2045\n",
       "Unauthorized / Criminal Activity             1913\n",
       "Smoke / Fumes / Smell / Odor                 1768\n",
       "Bypassed Requested Stop                      1656\n",
       "Cleanliness                                  1643\n",
       "Caught In Closing Door                       1544\n",
       "Leaking / Wet                                1525\n",
       "Non-Work Related Distractions                1473\n",
       "Noise                                        1431\n",
       "                                            ...  \n",
       "No Announcement / Message - Visual/Text         8\n",
       "Group Travel/Tours                              8\n",
       "Not Eligible / Account Suspended                7\n",
       "Transit Benefit Tickets                         7\n",
       "Voice Recognition                               6\n",
       "Intent to harm/intimidate                       5\n",
       "Too Bright                                      5\n",
       "add more / not enough                           3\n",
       "Abandoned Cars                                  3\n",
       "Bike Permits                                    3\n",
       "Abandoned Rail / Subway Cars                    3\n",
       "Lane Configuration                              3\n",
       "EBT (Public Benefit/Supplement)                 2\n",
       "Vegetation Removal                              2\n",
       "Trip Cancelled                                  2\n",
       "Volume too High - Audio                         2\n",
       "Completeness / Sufficiency - Visual/Test        2\n",
       "Door Open En Route                              2\n",
       "Bikes-Per-Car Restrictions                      2\n",
       "Not Seen/Not Available                          2\n",
       "other                                           2\n",
       "Rude/Inappropriate Language                     1\n",
       "Bright                                          1\n",
       "Late                                            1\n",
       "Ticket / Permit Suspended                       1\n",
       "Hamptons Reserve                                1\n",
       "User Friendly                                   1\n",
       "Non-MTA Agency                                  1\n",
       "Accuracy / Correctness - Visual/Text            1\n",
       "Failure to make scheduled stop                  1\n",
       "Name: Issue Detail, dtype: int64"
      ]
     },
     "execution_count": 4,
     "metadata": {},
     "output_type": "execute_result"
    }
   ],
   "source": [
    "feed[feed['Commendation or Complaint']=='Complaint']['Issue Detail'].value_counts()"
   ]
  },
  {
   "cell_type": "code",
   "execution_count": 5,
   "metadata": {
    "collapsed": true
   },
   "outputs": [],
   "source": [
    "#These complaints seem to be the most addressable with increased funding\n",
    "bad = ['Late / Delay','Improper Function/Needs Repair/Damaged','Crowding','A/C Not Available']"
   ]
  },
  {
   "cell_type": "code",
   "execution_count": 6,
   "metadata": {
    "collapsed": true
   },
   "outputs": [],
   "source": [
    "fare['Total'] = fare['Full Fare']\n",
    "cols = list(fare.columns)\n",
    "cols = cols[5:]\n",
    "for col in cols:\n",
    "    fare['Total'] = fare['Total']+fare[col]\n",
    "fare['Quarter'] = [int(x[:2])/4 + 1 for x in fare['From Date']]\n",
    "fare['Year'] = [int(x[-4:]) for x in fare['From Date']]\n",
    "fare = fare[['Total','Quarter','Year']].groupby(['Year','Quarter']).sum().reset_index()"
   ]
  },
  {
   "cell_type": "code",
   "execution_count": 7,
   "metadata": {
    "collapsed": false
   },
   "outputs": [],
   "source": [
    "feed['Commendation'] = [1 if x=='Commendation' else 0 for x in feed['Commendation or Complaint']]\n",
    "feed['Complaint'] = [1 if x=='Complaint' else 0 for x in feed['Commendation or Complaint']]\n",
    "for complaint in bad:\n",
    "    feed[complaint] = [1 if x==complaint else 0 for x in feed['Issue Detail']]\n",
    "\n",
    "feed = feed[['Commendation','Complaint','Year','Quarter']+bad].groupby(['Year','Quarter']).sum().reset_index()"
   ]
  },
  {
   "cell_type": "code",
   "execution_count": 8,
   "metadata": {
    "collapsed": false
   },
   "outputs": [],
   "source": [
    "join = feed.merge(fare,on=['Year','Quarter'])"
   ]
  },
  {
   "cell_type": "code",
   "execution_count": 9,
   "metadata": {
    "collapsed": false
   },
   "outputs": [
    {
     "data": {
      "text/html": [
       "<div>\n",
       "<table border=\"1\" class=\"dataframe\">\n",
       "  <thead>\n",
       "    <tr style=\"text-align: right;\">\n",
       "      <th></th>\n",
       "      <th>Year</th>\n",
       "      <th>Quarter</th>\n",
       "      <th>Commendation</th>\n",
       "      <th>Complaint</th>\n",
       "      <th>Late / Delay</th>\n",
       "      <th>Improper Function/Needs Repair/Damaged</th>\n",
       "      <th>Crowding</th>\n",
       "      <th>A/C Not Available</th>\n",
       "      <th>Total</th>\n",
       "    </tr>\n",
       "  </thead>\n",
       "  <tbody>\n",
       "    <tr>\n",
       "      <th>0</th>\n",
       "      <td>2014</td>\n",
       "      <td>3</td>\n",
       "      <td>327</td>\n",
       "      <td>5899</td>\n",
       "      <td>304</td>\n",
       "      <td>206</td>\n",
       "      <td>83</td>\n",
       "      <td>55</td>\n",
       "      <td>1146595464</td>\n",
       "    </tr>\n",
       "    <tr>\n",
       "      <th>1</th>\n",
       "      <td>2014</td>\n",
       "      <td>4</td>\n",
       "      <td>359</td>\n",
       "      <td>6466</td>\n",
       "      <td>360</td>\n",
       "      <td>239</td>\n",
       "      <td>90</td>\n",
       "      <td>10</td>\n",
       "      <td>119474452</td>\n",
       "    </tr>\n",
       "    <tr>\n",
       "      <th>2</th>\n",
       "      <td>2015</td>\n",
       "      <td>1</td>\n",
       "      <td>411</td>\n",
       "      <td>8365</td>\n",
       "      <td>309</td>\n",
       "      <td>307</td>\n",
       "      <td>190</td>\n",
       "      <td>2</td>\n",
       "      <td>662022698</td>\n",
       "    </tr>\n",
       "    <tr>\n",
       "      <th>3</th>\n",
       "      <td>2015</td>\n",
       "      <td>2</td>\n",
       "      <td>433</td>\n",
       "      <td>8876</td>\n",
       "      <td>310</td>\n",
       "      <td>321</td>\n",
       "      <td>256</td>\n",
       "      <td>68</td>\n",
       "      <td>1023233532</td>\n",
       "    </tr>\n",
       "    <tr>\n",
       "      <th>4</th>\n",
       "      <td>2015</td>\n",
       "      <td>3</td>\n",
       "      <td>443</td>\n",
       "      <td>8497</td>\n",
       "      <td>307</td>\n",
       "      <td>339</td>\n",
       "      <td>193</td>\n",
       "      <td>99</td>\n",
       "      <td>830594546</td>\n",
       "    </tr>\n",
       "  </tbody>\n",
       "</table>\n",
       "</div>"
      ],
      "text/plain": [
       "   Year  Quarter  Commendation  Complaint  Late / Delay  \\\n",
       "0  2014        3           327       5899           304   \n",
       "1  2014        4           359       6466           360   \n",
       "2  2015        1           411       8365           309   \n",
       "3  2015        2           433       8876           310   \n",
       "4  2015        3           443       8497           307   \n",
       "\n",
       "   Improper Function/Needs Repair/Damaged  Crowding  A/C Not Available  \\\n",
       "0                                     206        83                 55   \n",
       "1                                     239        90                 10   \n",
       "2                                     307       190                  2   \n",
       "3                                     321       256                 68   \n",
       "4                                     339       193                 99   \n",
       "\n",
       "        Total  \n",
       "0  1146595464  \n",
       "1   119474452  \n",
       "2   662022698  \n",
       "3  1023233532  \n",
       "4   830594546  "
      ]
     },
     "execution_count": 9,
     "metadata": {},
     "output_type": "execute_result"
    }
   ],
   "source": [
    "join.head()"
   ]
  },
  {
   "cell_type": "code",
   "execution_count": null,
   "metadata": {
    "collapsed": true
   },
   "outputs": [],
   "source": []
  },
  {
   "cell_type": "code",
   "execution_count": 10,
   "metadata": {
    "collapsed": true
   },
   "outputs": [],
   "source": [
    "f3 = 'Metropolitan_Transportation_Authority__MTA__Performance_Indicators_per_Agency__Beginning_2008.csv'\n",
    "perf = pd.read_csv(f3)"
   ]
  },
  {
   "cell_type": "code",
   "execution_count": 11,
   "metadata": {
    "collapsed": true
   },
   "outputs": [],
   "source": [
    "perf = perf[perf['Indicator Name']== 'Subway Wait Assessment ']\n",
    "perf = perf[['Period Year','Period Month','Monthly Actual']]\n",
    "perf.columns = ['Year','Month','Wait']\n",
    "perf['Quarter'] = [x/4 + 1 for x in perf['Month']]\n",
    "perf = perf[['Wait','Quarter','Year']].groupby(['Year','Quarter']).sum().reset_index()"
   ]
  },
  {
   "cell_type": "code",
   "execution_count": null,
   "metadata": {
    "collapsed": false
   },
   "outputs": [],
   "source": []
  },
  {
   "cell_type": "code",
   "execution_count": null,
   "metadata": {
    "collapsed": true
   },
   "outputs": [],
   "source": []
  },
  {
   "cell_type": "code",
   "execution_count": 12,
   "metadata": {
    "collapsed": true
   },
   "outputs": [],
   "source": [
    "import matplotlib.pyplot as plt\n",
    "%matplotlib inline"
   ]
  },
  {
   "cell_type": "code",
   "execution_count": 19,
   "metadata": {
    "collapsed": true
   },
   "outputs": [],
   "source": [
    "full = join['Total']/10000000000\n",
    "comp = (join[bad[2]]/join['Commendation'])\n"
   ]
  },
  {
   "cell_type": "code",
   "execution_count": 21,
   "metadata": {
    "collapsed": false
   },
   "outputs": [
    {
     "data": {
      "image/png": "[encoded data removed]",
      "text/plain": [
       "<matplotlib.figure.Figure at 0x1d8a36a0>"
      ]
     },
     "metadata": {},
     "output_type": "display_data"
    }
   ],
   "source": [
    "plt.figure(figsize=(10,5))\n",
    "plt.plot(range(len(full)),full)\n",
    "plt.plot(range(len(full)),comp)\n",
    "plt.title('Quarterly Total Fare and Ratio of ' + bad[2] + ' Complaints')\n",
    "plt.xlabel('Quarters since 2014 Q3')\n",
    "plt.legend(['Total Fare Revenue (10 bill)','Total Complaints Per Commendation'])\n",
    "plt.show()"
   ]
  },
  {
   "cell_type": "markdown",
   "metadata": {},
   "source": [
    "It takes time for budgets, so let's try lagging and just check correlations"
   ]
  },
  {
   "cell_type": "code",
   "execution_count": null,
   "metadata": {
    "collapsed": true
   },
   "outputs": [],
   "source": []
  },
  {
   "cell_type": "code",
   "execution_count": 46,
   "metadata": {
    "collapsed": false
   },
   "outputs": [
    {
     "name": "stdout",
     "output_type": "stream",
     "text": [
      "Complaints unscaled\n"
     ]
    }
   ],
   "source": [
    "import copy\n",
    "temp = copy.deepcopy(join)\n",
    "temp = temp[['Total']+bad]\n",
    "for col in bad:\n",
    "    temp[col] = temp[col]\n",
    "print 'Complaints unscaled'"
   ]
  },
  {
   "cell_type": "code",
   "execution_count": 47,
   "metadata": {
    "collapsed": false
   },
   "outputs": [
    {
     "data": {
      "text/plain": [
       "11"
      ]
     },
     "execution_count": 47,
     "metadata": {},
     "output_type": "execute_result"
    }
   ],
   "source": [
    "len(temp)"
   ]
  },
  {
   "cell_type": "code",
   "execution_count": 48,
   "metadata": {
    "collapsed": false
   },
   "outputs": [
    {
     "name": "stdout",
     "output_type": "stream",
     "text": [
      "Total Revenue Lagged 0 quarters\n",
      "Correlation to total revenue \n",
      "\n",
      "Total                                     1.000000\n",
      "Late / Delay                             -0.197032\n",
      "Improper Function/Needs Repair/Damaged   -0.124607\n",
      "Crowding                                  0.123953\n",
      "A/C Not Available                         0.336275\n",
      "Name: Total, dtype: float64\n",
      "\n",
      "\n",
      "Total Revenue Lagged 1 quarters\n",
      "Correlation to total revenue \n",
      "\n",
      "Total                                     1.000000\n",
      "Late / Delay                              0.103115\n",
      "Improper Function/Needs Repair/Damaged   -0.057238\n",
      "Crowding                                  0.041197\n",
      "A/C Not Available                         0.267334\n",
      "Name: Total, dtype: float64\n",
      "\n",
      "\n",
      "Total Revenue Lagged 2 quarters\n",
      "Correlation to total revenue \n",
      "\n",
      "Total                                     1.000000\n",
      "Late / Delay                              0.195696\n",
      "Improper Function/Needs Repair/Damaged    0.337634\n",
      "Crowding                                 -0.184065\n",
      "A/C Not Available                         0.002074\n",
      "Name: Total, dtype: float64\n",
      "\n",
      "\n",
      "Total Revenue Lagged 3 quarters\n",
      "Correlation to total revenue \n",
      "\n",
      "Total                                     1.000000\n",
      "Late / Delay                              0.037521\n",
      "Improper Function/Needs Repair/Damaged    0.175770\n",
      "Crowding                                 -0.054105\n",
      "A/C Not Available                        -0.541884\n",
      "Name: Total, dtype: float64\n",
      "\n",
      "\n"
     ]
    }
   ],
   "source": [
    "for i in range(4):\n",
    "    print 'Total Revenue Lagged ' + str(i) + ' quarters'\n",
    "    print 'Correlation to total revenue \\n'\n",
    "    print temp.corr(method='pearson').iloc[0]\n",
    "    print '\\n'\n",
    "    temp['Total'] = temp['Total'].shift(1)"
   ]
  },
  {
   "cell_type": "code",
   "execution_count": null,
   "metadata": {
    "collapsed": true
   },
   "outputs": [],
   "source": []
  },
  {
   "cell_type": "code",
   "execution_count": 37,
   "metadata": {
    "collapsed": false
   },
   "outputs": [
    {
     "name": "stdout",
     "output_type": "stream",
     "text": [
      "Complaints scaled by commendations\n"
     ]
    }
   ],
   "source": [
    "temp = copy.deepcopy(join)\n",
    "temp = temp[['Total']+bad]\n",
    "for col in bad:\n",
    "    temp[col] = temp[col]/join['Commendation']\n",
    "print 'Complaints scaled by commendations'"
   ]
  },
  {
   "cell_type": "code",
   "execution_count": 39,
   "metadata": {
    "collapsed": false
   },
   "outputs": [
    {
     "name": "stdout",
     "output_type": "stream",
     "text": [
      "Total Revenue Lagged 0 quarters\n",
      "Correlation to total revenue \n",
      "\n",
      "Total                                     1.000000\n",
      "Late / Delay                             -0.240638\n",
      "Improper Function/Needs Repair/Damaged   -0.125828\n",
      "Crowding                                  0.328205\n",
      "A/C Not Available                         0.367249\n",
      "Name: Total, dtype: float64\n",
      "\n",
      "\n",
      "Total Revenue Lagged 1 quarters\n",
      "Correlation to total revenue \n",
      "\n",
      "Total                                     1.000000\n",
      "Late / Delay                              0.214469\n",
      "Improper Function/Needs Repair/Damaged    0.035563\n",
      "Crowding                                  0.068443\n",
      "A/C Not Available                         0.279794\n",
      "Name: Total, dtype: float64\n",
      "\n",
      "\n",
      "Total Revenue Lagged 2 quarters\n",
      "Correlation to total revenue \n",
      "\n",
      "Total                                     1.000000\n",
      "Late / Delay                              0.180914\n",
      "Improper Function/Needs Repair/Damaged    0.361616\n",
      "Crowding                                 -0.585998\n",
      "A/C Not Available                        -0.021630\n",
      "Name: Total, dtype: float64\n",
      "\n",
      "\n",
      "Total Revenue Lagged 3 quarters\n",
      "Correlation to total revenue \n",
      "\n",
      "Total                                     1.000000\n",
      "Late / Delay                             -0.070671\n",
      "Improper Function/Needs Repair/Damaged    0.035614\n",
      "Crowding                                 -0.202169\n",
      "A/C Not Available                        -0.562243\n",
      "Name: Total, dtype: float64\n",
      "\n",
      "\n"
     ]
    }
   ],
   "source": [
    "for i in range(4):\n",
    "    print 'Total Revenue Lagged ' + str(i) + ' quarters'\n",
    "    print 'Correlation to total revenue \\n'\n",
    "    print temp.corr(method='pearson').iloc[0]\n",
    "    print '\\n'\n",
    "    temp['Total'] = temp['Total'].shift(1)"
   ]
  },
  {
   "cell_type": "code",
   "execution_count": null,
   "metadata": {
    "collapsed": true
   },
   "outputs": [],
   "source": []
  },
  {
   "cell_type": "code",
   "execution_count": null,
   "metadata": {
    "collapsed": true
   },
   "outputs": [],
   "source": [
    "temp = copy.deepcopy(join)\n",
    "temp = temp[['Total']+bad]\n",
    "for col in bad:\n",
    "    temp[col] = temp[col]/join['Complaints']\n",
    "print 'Complaints scaled by complaints total'"
   ]
  },
  {
   "cell_type": "code",
   "execution_count": 40,
   "metadata": {
    "collapsed": false
   },
   "outputs": [
    {
     "name": "stdout",
     "output_type": "stream",
     "text": [
      "Total Revenue Lagged 0 quarters\n",
      "Correlation to total revenue \n",
      "\n",
      "Total                                     1.000000\n",
      "Late / Delay                             -0.655743\n",
      "Improper Function/Needs Repair/Damaged   -0.303067\n",
      "Crowding                                  0.180305\n",
      "A/C Not Available                         0.197426\n",
      "Name: Total, dtype: float64\n",
      "\n",
      "\n",
      "Total Revenue Lagged 1 quarters\n",
      "Correlation to total revenue \n",
      "\n",
      "Total                                     1.000000\n",
      "Late / Delay                              0.932380\n",
      "Improper Function/Needs Repair/Damaged   -0.010631\n",
      "Crowding                                  0.596676\n",
      "A/C Not Available                         0.437707\n",
      "Name: Total, dtype: float64\n",
      "\n",
      "\n",
      "Total Revenue Lagged 2 quarters\n",
      "Correlation to total revenue \n",
      "\n",
      "Total                                     1.000000\n",
      "Late / Delay                             -0.579737\n",
      "Improper Function/Needs Repair/Damaged    0.254336\n",
      "Crowding                                 -0.765455\n",
      "A/C Not Available                        -0.164983\n",
      "Name: Total, dtype: float64\n",
      "\n",
      "\n",
      "Total Revenue Lagged 3 quarters\n",
      "Correlation to total revenue \n",
      "\n",
      "Total                                     1.000000\n",
      "Late / Delay                             -0.454242\n",
      "Improper Function/Needs Repair/Damaged   -0.196640\n",
      "Crowding                                 -0.280166\n",
      "A/C Not Available                        -0.899825\n",
      "Name: Total, dtype: float64\n",
      "\n",
      "\n"
     ]
    }
   ],
   "source": [
    "for i in range(4):\n",
    "    print 'Total Revenue Lagged ' + str(i) + ' quarters'\n",
    "    print 'Correlation to total revenue \\n'\n",
    "    print temp.corr(method='pearson').iloc[0]\n",
    "    print '\\n'\n",
    "    temp['Total'] = temp['Total'].shift(1)"
   ]
  },
  {
   "cell_type": "code",
   "execution_count": null,
   "metadata": {
    "collapsed": true
   },
   "outputs": [],
   "source": []
  },
  {
   "cell_type": "code",
   "execution_count": 41,
   "metadata": {
    "collapsed": true
   },
   "outputs": [],
   "source": [
    "join2 = join.merge(perf,on=['Year','Quarter'])"
   ]
  },
  {
   "cell_type": "code",
   "execution_count": null,
   "metadata": {
    "collapsed": false
   },
   "outputs": [],
   "source": []
  },
  {
   "cell_type": "code",
   "execution_count": 62,
   "metadata": {
    "collapsed": false
   },
   "outputs": [
    {
     "data": {
      "image/png": "[encoded data removed]",
      "text/plain": [
       "<matplotlib.figure.Figure at 0x1f6d83c8>"
      ]
     },
     "metadata": {},
     "output_type": "display_data"
    }
   ],
   "source": [
    "plt.figure(figsize=(10,5))\n",
    "plt.plot(range(len(join2)),join2[bad[0]]/10)\n",
    "plt.plot(range(len(join2)),join2['Wait'])\n",
    "plt.plot(range(len(join2)),100*join2[bad[0]]/join2['Commendation'])\n",
    "plt.plot(range(len(join2)),1000*join2[bad[0]]/join2['Complaint'])\n",
    "plt.title('Quarterly Total Fare and ' + bad[0] + ' Complaints')\n",
    "plt.xlabel('Quarters since 2014 Q3')\n",
    "plt.legend(['10s of Delay Complaints','Percentage Trains On-Time','Delay Complaints (Scaled)','Delay Complaints (% Scaled)'])\n",
    "plt.show()"
   ]
  },
  {
   "cell_type": "code",
   "execution_count": null,
   "metadata": {
    "collapsed": true
   },
   "outputs": [],
   "source": []
  }
 ],
 "metadata": {
  "kernelspec": {
   "display_name": "Python 2",
   "language": "python",
   "name": "python2"
  },
  "language_info": {
   "codemirror_mode": {
    "name": "ipython",
    "version": 2
   },
   "file_extension": ".py",
   "mimetype": "text/x-python",
   "name": "python",
   "nbconvert_exporter": "python",
   "pygments_lexer": "ipython2",
   "version": "2.7.13"
  }
 },
 "nbformat": 4,
 "nbformat_minor": 2
}
